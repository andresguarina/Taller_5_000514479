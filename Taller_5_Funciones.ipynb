{
  "cells": [
    {
      "cell_type": "markdown",
      "metadata": {
        "id": "view-in-github",
        "colab_type": "text"
      },
      "source": [
        "<a href=\"https://colab.research.google.com/github/andresguarina/Taller_5_000514479/blob/main/Taller_5_Funciones.ipynb\" target=\"_parent\"><img src=\"https://colab.research.google.com/assets/colab-badge.svg\" alt=\"Open In Colab\"/></a>"
      ]
    },
    {
      "cell_type": "markdown",
      "id": "66beb5a1",
      "metadata": {
        "id": "66beb5a1"
      },
      "source": [
        "# Fundamentos de Programación para Ingeniería Mecánica\n",
        "## UPB Montería - 202310\n",
        "### Taller 5: Funciones y Estructuras de Datos\n",
        "- Docente: Miguel Ortiz (miguel.ortizp@upb.edu.co)"
      ]
    },
    {
      "cell_type": "markdown",
      "id": "b4381f55",
      "metadata": {
        "id": "b4381f55"
      },
      "source": [
        "Datos del Estudiante:\n",
        "- Nombre: andres guarin alvarez\n",
        "- ID: 000514479\n",
        "- email: andres.guarina@upb.edu.co\n"
      ]
    },
    {
      "cell_type": "markdown",
      "id": "433f35a0",
      "metadata": {
        "id": "433f35a0"
      },
      "source": [
        "> Resuelva los siguientes ejercicios utilizando **Funciones, Listas y Diccionarios**."
      ]
    },
    {
      "cell_type": "markdown",
      "id": "aead929b",
      "metadata": {
        "id": "aead929b"
      },
      "source": [
        "### Problema 1: Discurso Político (150xp)\n",
        "\n",
        "Diseñe el algoritmo y escriba un código en lenguaje de programación Python para generar discursos políticos aleatorios, teniendo en cuenta la siguiente imagen:\n",
        "\n",
        "![componentes de un discurso](https://github.com/Mikheltodd/FunProgMec_202310_Taller5/blob/main/discurso.png?raw=1)\n",
        "\n",
        "Para ello, debe solicitar al usuario el nombre del candidato, un presupuesto general, y tres (3) porcentajes que representen los dineros que destinará a diferentes sectores seleccionados de forma aleatoria (lista de beneficio populista).\n",
        "\n",
        "Crea una función sin parámetros que retorne un string con el mensaje político. Dentro de la función deben aparecer los inputs para solicitar información al usuario. Guarda el mensaje creado por la función en una variable llamada `mensaje_politico` e imprime su valor en consola. \n",
        "\n",
        "**Ejemplo:**\n",
        "\n",
        "```\n",
        ">>> Entradas:\n",
        "Ingrese nombre del candidato: Chocolove McDonell\n",
        "Ingrese presupuesto (en millones de pesos): 1250\n",
        "Ingrese Porcentaje 1: 25\n",
        "Ingrese Porcentaje 2: 30\n",
        "Ingrese Porcentaje 3: 45\n",
        ">>> Salidas:\n",
        "Estimados copartidarios. \n",
        "Mi nombre es Chocolove McDonell y hoy vengo a decirles que, con su ayuda combatiré el desplazamiento y promoveré la educación de cada colombiano. Y es por eso que hoy he venido a proponerles invertir $1250.0 millones de pesos de la siguiente manera: \n",
        " - $312.5 millones de pesos en el empleo \n",
        " - $375.0 millones de pesos en la educación \n",
        " - $562.5 millones de pesos en la salud \n",
        "```\n",
        "\n",
        "**Nota:** para seleccionar un elemento aleatorio de una lista puede utilizar la función `choice()` de la librería random:\n",
        "\n",
        "```python\n",
        "import random\n",
        "random.choice([1, 2, 3])\n",
        "```\n",
        "\n",
        "**Recomendación:** cree las variables sin acento (tildes) y en minúsculas. "
      ]
    },
    {
      "cell_type": "code",
      "source": [
        "def generar_discurso_politico():\n",
        "    # Listas de palabras clave para construir el discurso político\n",
        "    titulo = ['Queridos ', 'Apreciados ', 'Distinguidos ', 'Honorables ', 'Estimados ', 'Respetados ']\n",
        "    publico_objetivo = ['Compatriotas ', 'Copartidarios ', 'Amigos ', 'Cotorráneos ', 'Cociudadanos ', 'Electores ']\n",
        "    condicion = ['En mi gobierno ', 'Con su apoyo ', 'Siendo elegido ', 'Con su ayuda ', 'Si me siguen ', 'Durante mi mandato ']\n",
        "    compromiso = ['Voy a derrotar ', 'Venceré ', 'Eliminaré ', 'Acabaré ', 'Lucharé contra ', 'Combatiré ']\n",
        "    lucha = ['La violencia y ', 'La delincuencia y ', 'La corrupción y ', 'La inflación y ', 'La pobreza y ', 'El desplazamiento y ']\n",
        "    promesa = ['Trabajaré por ', 'Garantizaré ', 'Protegeré ', 'Velaré por ', 'Promoveré ', 'Defenderé ']\n",
        "    beneficio = ['La educación ', 'El empleo ', 'La seguridad ', 'La paz ', 'La igualdad ', 'La salud ']\n",
        "    votos = ['Del país.', 'De la ciudad.', 'De la comunidad.', 'De la población.', 'Para toda la gente.', 'De cada ciudadano. ']\n",
        "\n",
        "    # Solicitar información al usuario\n",
        "    nombre_candidato = input(\"Ingrese nombre del candidato: \")\n",
        "    presupuesto = float(input(\"Ingrese presupuesto (en millones de pesos): \"))\n",
        "    porcentaje_1 = float(input(\"Ingrese Porcentaje 1: \"))\n",
        "    porcentaje_2 = float(input(\"Ingrese Porcentaje 2: \"))\n",
        "    porcentaje_3 = float(input(\"Ingrese Porcentaje 3: \"))\n",
        "\n",
        "    # Calcular el presupuesto destinado a cada sector\n",
        "    presupuesto_1 = presupuesto * porcentaje_1 / 100\n",
        "    presupuesto_2 = presupuesto * porcentaje_2 / 100\n",
        "    presupuesto_3 = presupuesto * porcentaje_3 / 100\n",
        "\n",
        "    # Construir el mensaje del discurso político\n",
        "    mensaje = random.choice(titulo) + random.choice(publico_objetivo)\n",
        "    mensaje += \"\\n\\nMi nombre es \" + nombre_candidato + \" y hoy vengo a informales que, \"\n",
        "    mensaje += random.choice(condicion) + random.choice(compromiso) + random.choice(lucha)\n",
        "    mensaje += random.choice(promesa) + \"de la siguiente manera a ciertos fondos:\\n\\n\"\n",
        "    mensaje += \" - $\" + \"{:.2f}\".format(presupuesto_1) + \" millones de pesos en \" + random.choice(beneficio) + \"\\n\"\n",
        "    mensaje += \" - $\" + \"{:.2f}\".format(presupuesto_2) + \" millones de pesos en \" + random.choice(beneficio) + \"\\n\"\n",
        "    mensaje += \" - $\" + \"{:.2f}\".format(presupuesto_3) + \" millones de pesos en \" + random.choice(beneficio) + \"\\n\\n\"\n",
        "    mensaje += random.choice(votos)\n",
        "\n",
        "    return mensaje\n",
        "# Ejemplo de uso\n",
        "mensaje_politico = generar_discurso_politico()\n",
        "print(mensaje_politico)"
      ],
      "metadata": {
        "id": "u08KKyTEPzAB",
        "outputId": "e77e420c-66ea-4439-a488-8e409e999eab",
        "colab": {
          "base_uri": "https://localhost:8080/"
        }
      },
      "id": "u08KKyTEPzAB",
      "execution_count": 30,
      "outputs": [
        {
          "output_type": "stream",
          "name": "stdout",
          "text": [
            "Ingrese nombre del candidato: pepe\n",
            "Ingrese presupuesto (en millones de pesos): 24340\n",
            "Ingrese Porcentaje 1: 40\n",
            "Ingrese Porcentaje 2: 50\n",
            "Ingrese Porcentaje 3: 10\n",
            "Estimados Electores \n",
            "\n",
            "Mi nombre es pepe y hoy vengo a informales que, En mi gobierno Voy a derrotar La violencia y Promoveré de la siguiente manera a ciertos fondos:\n",
            "\n",
            " - $9736.00 millones de pesos en La salud \n",
            " - $12170.00 millones de pesos en La paz \n",
            " - $2434.00 millones de pesos en La igualdad \n",
            "\n",
            "Para toda la gente.\n"
          ]
        }
      ]
    },
    {
      "cell_type": "code",
      "source": [],
      "metadata": {
        "id": "Y_xiPP_oQtkk"
      },
      "id": "Y_xiPP_oQtkk",
      "execution_count": null,
      "outputs": []
    }
  ],
  "metadata": {
    "kernelspec": {
      "display_name": "Python 3 (ipykernel)",
      "language": "python",
      "name": "python3"
    },
    "language_info": {
      "codemirror_mode": {
        "name": "ipython",
        "version": 3
      },
      "file_extension": ".py",
      "mimetype": "text/x-python",
      "name": "python",
      "nbconvert_exporter": "python",
      "pygments_lexer": "ipython3",
      "version": "3.10.6"
    },
    "colab": {
      "provenance": [],
      "include_colab_link": true
    }
  },
  "nbformat": 4,
  "nbformat_minor": 5
}